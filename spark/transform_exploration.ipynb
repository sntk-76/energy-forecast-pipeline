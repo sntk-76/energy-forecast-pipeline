{
 "cells": [
  {
   "cell_type": "code",
   "execution_count": 1,
   "id": "f689d95e-6d46-4d2a-b3f2-7df1a4c95dff",
   "metadata": {},
   "outputs": [],
   "source": [
    "from pyspark.sql import SparkSession\n",
    "import pandas as pd \n",
    "from pyspark.sql.functions import col,to_timestamp,sum"
   ]
  },
  {
   "cell_type": "code",
   "execution_count": 2,
   "id": "56bb9793-115d-400a-8ec7-e03d07a5e407",
   "metadata": {},
   "outputs": [
    {
     "name": "stderr",
     "output_type": "stream",
     "text": [
      "Setting default log level to \"WARN\".\n",
      "To adjust logging level use sc.setLogLevel(newLevel). For SparkR, use setLogLevel(newLevel).\n",
      "25/04/14 07:34:37 WARN NativeCodeLoader: Unable to load native-hadoop library for your platform... using builtin-java classes where applicable\n"
     ]
    },
    {
     "name": "stdout",
     "output_type": "stream",
     "text": [
      "The connection is successfully stablished\n"
     ]
    }
   ],
   "source": [
    "spark = SparkSession.builder \\\n",
    "    .appName(\"EnergyForecastTransformation\") \\\n",
    "    .master(\"local[*]\")\\\n",
    "    .getOrCreate()\n",
    "print('The connection is successfully stablished')"
   ]
  },
  {
   "cell_type": "code",
   "execution_count": 3,
   "id": "7f45c9d3-210f-40ca-8c85-1b5b4ba43ea4",
   "metadata": {},
   "outputs": [],
   "source": [
    "spark_df = spark.read.option(\"header\",True).csv(\"/home/sinatavakoli284/energy-forecast-pipeline/data/raw_data.csv\")\n",
    "pandas_df = pd.read_csv('/home/sinatavakoli284/energy-forecast-pipeline/data/raw_data.csv')"
   ]
  },
  {
   "cell_type": "code",
   "execution_count": 4,
   "id": "094177c4-f9a7-496b-89fa-7d6895189d6e",
   "metadata": {},
   "outputs": [],
   "source": [
    "spark_df = spark_df.select(\n",
    "    \"utc_timestamp\",\n",
    "    \"cet_cest_timestamp\",\n",
    "    \"DE_load_actual_entsoe_transparency\",\n",
    "    \"DE_load_forecast_entsoe_transparency\",\n",
    "    \"DE_solar_capacity\",\n",
    "    \"DE_solar_generation_actual\",\n",
    "    \"DE_solar_profile\",\n",
    "    \"DE_wind_capacity\",\n",
    "    \"DE_wind_generation_actual\",\n",
    "    \"DE_wind_profile\",\n",
    "    \"DE_wind_offshore_capacity\",\n",
    "    \"DE_wind_offshore_generation_actual\",\n",
    "    \"DE_wind_offshore_profile\",\n",
    "    \"DE_wind_onshore_capacity\",\n",
    "    \"DE_wind_onshore_generation_actual\",\n",
    "    \"DE_wind_onshore_profile\",\n",
    "    \"DE_50hertz_load_actual_entsoe_transparency\",\n",
    "    \"DE_50hertz_load_forecast_entsoe_transparency\",\n",
    "    \"DE_50hertz_solar_generation_actual\",\n",
    "    \"DE_50hertz_wind_generation_actual\",\n",
    "    \"DE_50hertz_wind_offshore_generation_actual\",\n",
    "    \"DE_50hertz_wind_onshore_generation_actual\",\n",
    "    \"DE_LU_load_actual_entsoe_transparency\",\n",
    "    \"DE_LU_load_forecast_entsoe_transparency\",\n",
    "    \"DE_LU_price_day_ahead\",\n",
    "    \"DE_LU_solar_generation_actual\",\n",
    "    \"DE_LU_wind_generation_actual\",\n",
    "    \"DE_LU_wind_offshore_generation_actual\",\n",
    "    \"DE_LU_wind_onshore_generation_actual\",\n",
    "    \"DE_amprion_load_actual_entsoe_transparency\",\n",
    "    \"DE_amprion_load_forecast_entsoe_transparency\",\n",
    "    \"DE_amprion_solar_generation_actual\",\n",
    "    \"DE_amprion_wind_onshore_generation_actual\",\n",
    "    \"DE_tennet_load_actual_entsoe_transparency\",\n",
    "    \"DE_tennet_load_forecast_entsoe_transparency\",\n",
    "    \"DE_tennet_solar_generation_actual\",\n",
    "    \"DE_tennet_wind_generation_actual\",\n",
    "    \"DE_tennet_wind_offshore_generation_actual\",\n",
    "    \"DE_tennet_wind_onshore_generation_actual\",\n",
    "    \"DE_transnetbw_load_actual_entsoe_transparency\",\n",
    "    \"DE_transnetbw_load_forecast_entsoe_transparency\",\n",
    "    \"DE_transnetbw_solar_generation_actual\",\n",
    "    \"DE_transnetbw_wind_onshore_generation_actual\"\n",
    ")"
   ]
  },
  {
   "cell_type": "code",
   "execution_count": 5,
   "id": "02cafd95-8b7a-4af1-abe9-27304bcbff53",
   "metadata": {},
   "outputs": [
    {
     "name": "stdout",
     "output_type": "stream",
     "text": [
      "root\n",
      " |-- utc_timestamp: string (nullable = true)\n",
      " |-- cet_cest_timestamp: string (nullable = true)\n",
      " |-- DE_load_actual_entsoe_transparency: string (nullable = true)\n",
      " |-- DE_load_forecast_entsoe_transparency: string (nullable = true)\n",
      " |-- DE_solar_capacity: string (nullable = true)\n",
      " |-- DE_solar_generation_actual: string (nullable = true)\n",
      " |-- DE_solar_profile: string (nullable = true)\n",
      " |-- DE_wind_capacity: string (nullable = true)\n",
      " |-- DE_wind_generation_actual: string (nullable = true)\n",
      " |-- DE_wind_profile: string (nullable = true)\n",
      " |-- DE_wind_offshore_capacity: string (nullable = true)\n",
      " |-- DE_wind_offshore_generation_actual: string (nullable = true)\n",
      " |-- DE_wind_offshore_profile: string (nullable = true)\n",
      " |-- DE_wind_onshore_capacity: string (nullable = true)\n",
      " |-- DE_wind_onshore_generation_actual: string (nullable = true)\n",
      " |-- DE_wind_onshore_profile: string (nullable = true)\n",
      " |-- DE_50hertz_load_actual_entsoe_transparency: string (nullable = true)\n",
      " |-- DE_50hertz_load_forecast_entsoe_transparency: string (nullable = true)\n",
      " |-- DE_50hertz_solar_generation_actual: string (nullable = true)\n",
      " |-- DE_50hertz_wind_generation_actual: string (nullable = true)\n",
      " |-- DE_50hertz_wind_offshore_generation_actual: string (nullable = true)\n",
      " |-- DE_50hertz_wind_onshore_generation_actual: string (nullable = true)\n",
      " |-- DE_LU_load_actual_entsoe_transparency: string (nullable = true)\n",
      " |-- DE_LU_load_forecast_entsoe_transparency: string (nullable = true)\n",
      " |-- DE_LU_price_day_ahead: string (nullable = true)\n",
      " |-- DE_LU_solar_generation_actual: string (nullable = true)\n",
      " |-- DE_LU_wind_generation_actual: string (nullable = true)\n",
      " |-- DE_LU_wind_offshore_generation_actual: string (nullable = true)\n",
      " |-- DE_LU_wind_onshore_generation_actual: string (nullable = true)\n",
      " |-- DE_amprion_load_actual_entsoe_transparency: string (nullable = true)\n",
      " |-- DE_amprion_load_forecast_entsoe_transparency: string (nullable = true)\n",
      " |-- DE_amprion_solar_generation_actual: string (nullable = true)\n",
      " |-- DE_amprion_wind_onshore_generation_actual: string (nullable = true)\n",
      " |-- DE_tennet_load_actual_entsoe_transparency: string (nullable = true)\n",
      " |-- DE_tennet_load_forecast_entsoe_transparency: string (nullable = true)\n",
      " |-- DE_tennet_solar_generation_actual: string (nullable = true)\n",
      " |-- DE_tennet_wind_generation_actual: string (nullable = true)\n",
      " |-- DE_tennet_wind_offshore_generation_actual: string (nullable = true)\n",
      " |-- DE_tennet_wind_onshore_generation_actual: string (nullable = true)\n",
      " |-- DE_transnetbw_load_actual_entsoe_transparency: string (nullable = true)\n",
      " |-- DE_transnetbw_load_forecast_entsoe_transparency: string (nullable = true)\n",
      " |-- DE_transnetbw_solar_generation_actual: string (nullable = true)\n",
      " |-- DE_transnetbw_wind_onshore_generation_actual: string (nullable = true)\n",
      "\n"
     ]
    }
   ],
   "source": [
    "spark_df.printSchema()"
   ]
  },
  {
   "cell_type": "code",
   "execution_count": 6,
   "id": "8e3ee009-5bda-4b0c-9d2c-b909a9e41e9f",
   "metadata": {},
   "outputs": [],
   "source": [
    "spark_df = spark_df.withColumn(\"utc_timestamp\",to_timestamp(\"utc_timestamp\"))\n",
    "spark_df = spark_df.withColumn(\"cet_cest_timestamp\",to_timestamp(\"cet_cest_timestamp\"))"
   ]
  },
  {
   "cell_type": "code",
   "execution_count": 7,
   "id": "18689826-8e17-4892-9045-29285f55b10e",
   "metadata": {},
   "outputs": [],
   "source": [
    "spark_df = spark_df.dropDuplicates(['utc_timestamp'])"
   ]
  },
  {
   "cell_type": "code",
   "execution_count": 8,
   "id": "cc27043f-679d-44ea-b960-371e3c11603c",
   "metadata": {},
   "outputs": [],
   "source": [
    "spark_df = spark_df.select([col(i).alias(i.strip().lower().replace(\" \",\"_\")) for i in spark_df.columns])"
   ]
  },
  {
   "cell_type": "code",
   "execution_count": 9,
   "id": "c1cdd37c-075c-45d2-9439-f6e0f7372b4a",
   "metadata": {},
   "outputs": [],
   "source": [
    "numeric_col = [c for c in spark_df.columns if c not in (\"utc_timestamp\",\"cet_cest_timestamp\")]\n",
    "for column_name in numeric_col:\n",
    "    spark_df = spark_df.withColumn(column_name,col(column_name).cast('double'))"
   ]
  },
  {
   "cell_type": "code",
   "execution_count": 10,
   "id": "558c8a11-39ea-4af4-aa2e-74f29373134f",
   "metadata": {},
   "outputs": [
    {
     "name": "stdout",
     "output_type": "stream",
     "text": [
      "root\n",
      " |-- utc_timestamp: timestamp (nullable = true)\n",
      " |-- cet_cest_timestamp: timestamp (nullable = true)\n",
      " |-- de_load_actual_entsoe_transparency: double (nullable = true)\n",
      " |-- de_load_forecast_entsoe_transparency: double (nullable = true)\n",
      " |-- de_solar_capacity: double (nullable = true)\n",
      " |-- de_solar_generation_actual: double (nullable = true)\n",
      " |-- de_solar_profile: double (nullable = true)\n",
      " |-- de_wind_capacity: double (nullable = true)\n",
      " |-- de_wind_generation_actual: double (nullable = true)\n",
      " |-- de_wind_profile: double (nullable = true)\n",
      " |-- de_wind_offshore_capacity: double (nullable = true)\n",
      " |-- de_wind_offshore_generation_actual: double (nullable = true)\n",
      " |-- de_wind_offshore_profile: double (nullable = true)\n",
      " |-- de_wind_onshore_capacity: double (nullable = true)\n",
      " |-- de_wind_onshore_generation_actual: double (nullable = true)\n",
      " |-- de_wind_onshore_profile: double (nullable = true)\n",
      " |-- de_50hertz_load_actual_entsoe_transparency: double (nullable = true)\n",
      " |-- de_50hertz_load_forecast_entsoe_transparency: double (nullable = true)\n",
      " |-- de_50hertz_solar_generation_actual: double (nullable = true)\n",
      " |-- de_50hertz_wind_generation_actual: double (nullable = true)\n",
      " |-- de_50hertz_wind_offshore_generation_actual: double (nullable = true)\n",
      " |-- de_50hertz_wind_onshore_generation_actual: double (nullable = true)\n",
      " |-- de_lu_load_actual_entsoe_transparency: double (nullable = true)\n",
      " |-- de_lu_load_forecast_entsoe_transparency: double (nullable = true)\n",
      " |-- de_lu_price_day_ahead: double (nullable = true)\n",
      " |-- de_lu_solar_generation_actual: double (nullable = true)\n",
      " |-- de_lu_wind_generation_actual: double (nullable = true)\n",
      " |-- de_lu_wind_offshore_generation_actual: double (nullable = true)\n",
      " |-- de_lu_wind_onshore_generation_actual: double (nullable = true)\n",
      " |-- de_amprion_load_actual_entsoe_transparency: double (nullable = true)\n",
      " |-- de_amprion_load_forecast_entsoe_transparency: double (nullable = true)\n",
      " |-- de_amprion_solar_generation_actual: double (nullable = true)\n",
      " |-- de_amprion_wind_onshore_generation_actual: double (nullable = true)\n",
      " |-- de_tennet_load_actual_entsoe_transparency: double (nullable = true)\n",
      " |-- de_tennet_load_forecast_entsoe_transparency: double (nullable = true)\n",
      " |-- de_tennet_solar_generation_actual: double (nullable = true)\n",
      " |-- de_tennet_wind_generation_actual: double (nullable = true)\n",
      " |-- de_tennet_wind_offshore_generation_actual: double (nullable = true)\n",
      " |-- de_tennet_wind_onshore_generation_actual: double (nullable = true)\n",
      " |-- de_transnetbw_load_actual_entsoe_transparency: double (nullable = true)\n",
      " |-- de_transnetbw_load_forecast_entsoe_transparency: double (nullable = true)\n",
      " |-- de_transnetbw_solar_generation_actual: double (nullable = true)\n",
      " |-- de_transnetbw_wind_onshore_generation_actual: double (nullable = true)\n",
      "\n"
     ]
    }
   ],
   "source": [
    "spark_df.printSchema()"
   ]
  },
  {
   "cell_type": "code",
   "execution_count": 11,
   "id": "57ca5f4b-3f63-443c-9dba-3417122fb08d",
   "metadata": {},
   "outputs": [
    {
     "name": "stderr",
     "output_type": "stream",
     "text": [
      "                                                                                \r"
     ]
    }
   ],
   "source": [
    "null_threshold = 0.5\n",
    "total_rows = spark_df.count()\n",
    "cols_to_drop = [c for c in spark_df.columns if spark_df.filter(col(c).isNull()).count() / total_rows > null_threshold]\n",
    "spark_df = spark_df.drop(*cols_to_drop)"
   ]
  },
  {
   "cell_type": "code",
   "execution_count": 12,
   "id": "a2ca2f08-4ab4-4020-9939-e76269cae48a",
   "metadata": {},
   "outputs": [
    {
     "name": "stdout",
     "output_type": "stream",
     "text": [
      "root\n",
      " |-- utc_timestamp: timestamp (nullable = true)\n",
      " |-- cet_cest_timestamp: timestamp (nullable = true)\n",
      " |-- de_load_actual_entsoe_transparency: double (nullable = true)\n",
      " |-- de_load_forecast_entsoe_transparency: double (nullable = true)\n",
      " |-- de_solar_capacity: double (nullable = true)\n",
      " |-- de_solar_generation_actual: double (nullable = true)\n",
      " |-- de_solar_profile: double (nullable = true)\n",
      " |-- de_wind_capacity: double (nullable = true)\n",
      " |-- de_wind_generation_actual: double (nullable = true)\n",
      " |-- de_wind_profile: double (nullable = true)\n",
      " |-- de_wind_offshore_capacity: double (nullable = true)\n",
      " |-- de_wind_offshore_generation_actual: double (nullable = true)\n",
      " |-- de_wind_offshore_profile: double (nullable = true)\n",
      " |-- de_wind_onshore_capacity: double (nullable = true)\n",
      " |-- de_wind_onshore_generation_actual: double (nullable = true)\n",
      " |-- de_wind_onshore_profile: double (nullable = true)\n",
      " |-- de_50hertz_load_actual_entsoe_transparency: double (nullable = true)\n",
      " |-- de_50hertz_load_forecast_entsoe_transparency: double (nullable = true)\n",
      " |-- de_50hertz_solar_generation_actual: double (nullable = true)\n",
      " |-- de_50hertz_wind_generation_actual: double (nullable = true)\n",
      " |-- de_50hertz_wind_offshore_generation_actual: double (nullable = true)\n",
      " |-- de_50hertz_wind_onshore_generation_actual: double (nullable = true)\n",
      " |-- de_amprion_load_actual_entsoe_transparency: double (nullable = true)\n",
      " |-- de_amprion_load_forecast_entsoe_transparency: double (nullable = true)\n",
      " |-- de_amprion_solar_generation_actual: double (nullable = true)\n",
      " |-- de_amprion_wind_onshore_generation_actual: double (nullable = true)\n",
      " |-- de_tennet_load_actual_entsoe_transparency: double (nullable = true)\n",
      " |-- de_tennet_load_forecast_entsoe_transparency: double (nullable = true)\n",
      " |-- de_tennet_solar_generation_actual: double (nullable = true)\n",
      " |-- de_tennet_wind_generation_actual: double (nullable = true)\n",
      " |-- de_tennet_wind_offshore_generation_actual: double (nullable = true)\n",
      " |-- de_tennet_wind_onshore_generation_actual: double (nullable = true)\n",
      " |-- de_transnetbw_load_actual_entsoe_transparency: double (nullable = true)\n",
      " |-- de_transnetbw_load_forecast_entsoe_transparency: double (nullable = true)\n",
      " |-- de_transnetbw_solar_generation_actual: double (nullable = true)\n",
      " |-- de_transnetbw_wind_onshore_generation_actual: double (nullable = true)\n",
      "\n"
     ]
    }
   ],
   "source": [
    "spark_df.printSchema()"
   ]
  },
  {
   "cell_type": "code",
   "execution_count": null,
   "id": "118e589a-d339-4bdb-8347-ac8e1484a8c2",
   "metadata": {},
   "outputs": [],
   "source": [
    "spark_df.coalesce(1).write.mode('overwrite').option('header',True).csv('/home/sinatavakoli284/energy-forecast-pipeline/data/clean_data.csv')"
   ]
  }
 ],
 "metadata": {
  "kernelspec": {
   "display_name": "Python 3 (ipykernel)",
   "language": "python",
   "name": "python3"
  },
  "language_info": {
   "codemirror_mode": {
    "name": "ipython",
    "version": 3
   },
   "file_extension": ".py",
   "mimetype": "text/x-python",
   "name": "python",
   "nbconvert_exporter": "python",
   "pygments_lexer": "ipython3",
   "version": "3.12.7"
  }
 },
 "nbformat": 4,
 "nbformat_minor": 5
}
