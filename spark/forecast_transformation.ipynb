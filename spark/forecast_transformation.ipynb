{
 "cells": [
  {
   "cell_type": "code",
   "execution_count": 6,
   "id": "04e8575f-49ec-44be-9e65-7ee916b3d962",
   "metadata": {},
   "outputs": [],
   "source": [
    "import pyspark\n",
    "from pyspark.sql import SparkSession\n",
    "from pyspark.sql.functions import col,to_date,to_timestamp\n",
    "import pandas as pd "
   ]
  },
  {
   "cell_type": "code",
   "execution_count": 2,
   "id": "1f1200b2-788a-4355-816d-525d6e6653cc",
   "metadata": {},
   "outputs": [
    {
     "name": "stderr",
     "output_type": "stream",
     "text": [
      "Setting default log level to \"WARN\".\n",
      "To adjust logging level use sc.setLogLevel(newLevel). For SparkR, use setLogLevel(newLevel).\n",
      "25/04/17 06:48:05 WARN NativeCodeLoader: Unable to load native-hadoop library for your platform... using builtin-java classes where applicable\n"
     ]
    },
    {
     "name": "stdout",
     "output_type": "stream",
     "text": [
      "The connection is successfully stablished\n"
     ]
    }
   ],
   "source": [
    "spark = SparkSession.builder \\\n",
    "    .appName(\"Forecast_data_Transformation\") \\\n",
    "    .master(\"local[*]\")\\\n",
    "    .getOrCreate()\n",
    "print('The connection is successfully stablished')"
   ]
  },
  {
   "cell_type": "code",
   "execution_count": 3,
   "id": "2568d9e7-f80a-4aec-9651-eea0c590851e",
   "metadata": {},
   "outputs": [],
   "source": [
    "spark_df = spark.read.option('header',True).csv('/home/sinatavakoli284/energy-forecast-pipeline/data/energy_forecast.csv')\n",
    "pandas_df = pd.read_csv('/home/sinatavakoli284/energy-forecast-pipeline/data/energy_forecast.csv')"
   ]
  },
  {
   "cell_type": "code",
   "execution_count": 4,
   "id": "1413b876-e0cd-46bf-903a-68eeff8d53b8",
   "metadata": {},
   "outputs": [
    {
     "name": "stdout",
     "output_type": "stream",
     "text": [
      "root\n",
      " |-- ds: string (nullable = true)\n",
      " |-- trend: string (nullable = true)\n",
      " |-- yhat_lower: string (nullable = true)\n",
      " |-- yhat_upper: string (nullable = true)\n",
      " |-- trend_lower: string (nullable = true)\n",
      " |-- trend_upper: string (nullable = true)\n",
      " |-- extra_regressors_multiplicative: string (nullable = true)\n",
      " |-- extra_regressors_multiplicative_lower: string (nullable = true)\n",
      " |-- extra_regressors_multiplicative_upper: string (nullable = true)\n",
      " |-- multiplicative_terms: string (nullable = true)\n",
      " |-- multiplicative_terms_lower: string (nullable = true)\n",
      " |-- multiplicative_terms_upper: string (nullable = true)\n",
      " |-- solar: string (nullable = true)\n",
      " |-- solar_lower: string (nullable = true)\n",
      " |-- solar_upper: string (nullable = true)\n",
      " |-- weekly: string (nullable = true)\n",
      " |-- weekly_lower: string (nullable = true)\n",
      " |-- weekly_upper: string (nullable = true)\n",
      " |-- wind: string (nullable = true)\n",
      " |-- wind_lower: string (nullable = true)\n",
      " |-- wind_upper: string (nullable = true)\n",
      " |-- yearly: string (nullable = true)\n",
      " |-- yearly_lower: string (nullable = true)\n",
      " |-- yearly_upper: string (nullable = true)\n",
      " |-- additive_terms: string (nullable = true)\n",
      " |-- additive_terms_lower: string (nullable = true)\n",
      " |-- additive_terms_upper: string (nullable = true)\n",
      " |-- yhat: string (nullable = true)\n",
      "\n"
     ]
    }
   ],
   "source": [
    "spark_df.printSchema()"
   ]
  },
  {
   "cell_type": "code",
   "execution_count": 5,
   "id": "acf9170f-d4d5-4d07-8424-c49dd25f8781",
   "metadata": {},
   "outputs": [
    {
     "name": "stderr",
     "output_type": "stream",
     "text": [
      "25/04/17 06:48:34 WARN SparkStringUtils: Truncated the string representation of a plan since it was too large. This behavior can be adjusted by setting 'spark.sql.debug.maxToStringFields'.\n"
     ]
    },
    {
     "data": {
      "text/plain": [
       "[Row(ds='2015-01-01', trend='54001.32981641666', yhat_lower='50610.8707013842', yhat_upper='58156.85079302107', trend_lower='54001.32981641666', trend_upper='54001.32981641666', extra_regressors_multiplicative='0.013906824900951346', extra_regressors_multiplicative_lower='0.013906824900951346', extra_regressors_multiplicative_upper='0.013906824900951346', multiplicative_terms='0.005328580960313931', multiplicative_terms_lower='0.005328580960313931', multiplicative_terms_upper='0.005328580960313931', solar='0.01247727234621057', solar_lower='0.01247727234621057', solar_upper='0.01247727234621057', weekly='0.06277275999989126', weekly_lower='0.06277275999989126', weekly_upper='0.06277275999989126', wind='0.0014295525547407758', wind_lower='0.0014295525547407758', wind_upper='0.0014295525547407758', yearly='-0.07135100394052868', yearly_lower='-0.07135100394052868', yearly_upper='-0.07135100394052868', additive_terms='0.0', additive_terms_lower='0.0', additive_terms_upper='0.0', yhat='54289.08027430805')]"
      ]
     },
     "execution_count": 5,
     "metadata": {},
     "output_type": "execute_result"
    }
   ],
   "source": [
    "spark_df.head(1)"
   ]
  },
  {
   "cell_type": "code",
   "execution_count": 7,
   "id": "6a8955c3-5f59-49fe-8e43-23b411d2c44a",
   "metadata": {},
   "outputs": [],
   "source": [
    "casted_data = spark_df.select(\n",
    "\n",
    "     col('ds').cast('Date'),\n",
    "     col('trend').cast('double'),\n",
    "     col('yhat_lower').cast('double'),\n",
    "     col('yhat_upper').cast('double'),\n",
    "     col('trend_lower').cast('double'),\n",
    "     col('trend_upper').cast('double'),\n",
    "     col('extra_regressors_multiplicative').cast('double'),\n",
    "     col('extra_regressors_multiplicative_lower').cast('double'),\n",
    "     col('extra_regressors_multiplicative_upper').cast('double'),\n",
    "     col('multiplicative_terms').cast('double'),\n",
    "     col('multiplicative_terms_lower').cast('double'),\n",
    "     col('multiplicative_terms_upper').cast('double'),\n",
    "     col('solar').cast('double'),\n",
    "     col('solar_lower').cast('double'),\n",
    "     col('solar_upper').cast('double'),\n",
    "     col('weekly').cast('double'),\n",
    "     col('weekly_lower').cast('double'),\n",
    "     col('weekly_upper').cast('double'),\n",
    "     col('wind').cast('double'),\n",
    "     col('wind_lower').cast('double'),\n",
    "     col('wind_upper').cast('double'),\n",
    "     col('yearly').cast('double'),\n",
    "     col('yearly_lower').cast('double'),\n",
    "     col('yearly_upper').cast('double'),\n",
    "     col('additive_terms').cast('double'),\n",
    "     col('additive_terms_lower').cast('double'),\n",
    "     col('additive_terms_upper').cast('double'),\n",
    "     col('yhat').cast('double')\n",
    ")"
   ]
  },
  {
   "cell_type": "code",
   "execution_count": 8,
   "id": "abe4415d-0987-4305-80fe-95119787782e",
   "metadata": {},
   "outputs": [],
   "source": [
    "casted_data = casted_data.withColumn('ds',to_timestamp(casted_data['ds'],'yyyy-mm-dd'))"
   ]
  },
  {
   "cell_type": "code",
   "execution_count": 9,
   "id": "4368dbee-2fa4-4160-9046-0e2a604af095",
   "metadata": {},
   "outputs": [
    {
     "name": "stdout",
     "output_type": "stream",
     "text": [
      "root\n",
      " |-- ds: timestamp (nullable = true)\n",
      " |-- trend: double (nullable = true)\n",
      " |-- yhat_lower: double (nullable = true)\n",
      " |-- yhat_upper: double (nullable = true)\n",
      " |-- trend_lower: double (nullable = true)\n",
      " |-- trend_upper: double (nullable = true)\n",
      " |-- extra_regressors_multiplicative: double (nullable = true)\n",
      " |-- extra_regressors_multiplicative_lower: double (nullable = true)\n",
      " |-- extra_regressors_multiplicative_upper: double (nullable = true)\n",
      " |-- multiplicative_terms: double (nullable = true)\n",
      " |-- multiplicative_terms_lower: double (nullable = true)\n",
      " |-- multiplicative_terms_upper: double (nullable = true)\n",
      " |-- solar: double (nullable = true)\n",
      " |-- solar_lower: double (nullable = true)\n",
      " |-- solar_upper: double (nullable = true)\n",
      " |-- weekly: double (nullable = true)\n",
      " |-- weekly_lower: double (nullable = true)\n",
      " |-- weekly_upper: double (nullable = true)\n",
      " |-- wind: double (nullable = true)\n",
      " |-- wind_lower: double (nullable = true)\n",
      " |-- wind_upper: double (nullable = true)\n",
      " |-- yearly: double (nullable = true)\n",
      " |-- yearly_lower: double (nullable = true)\n",
      " |-- yearly_upper: double (nullable = true)\n",
      " |-- additive_terms: double (nullable = true)\n",
      " |-- additive_terms_lower: double (nullable = true)\n",
      " |-- additive_terms_upper: double (nullable = true)\n",
      " |-- yhat: double (nullable = true)\n",
      "\n"
     ]
    }
   ],
   "source": [
    "casted_data.printSchema()"
   ]
  },
  {
   "cell_type": "code",
   "execution_count": 11,
   "id": "416b4513-61bd-4b4c-8a79-b0d752a7ee74",
   "metadata": {},
   "outputs": [
    {
     "data": {
      "text/plain": [
       "[Row(ds=datetime.datetime(2015, 1, 1, 0, 0), trend=54001.32981641666, yhat_lower=50610.8707013842, yhat_upper=58156.85079302107, trend_lower=54001.32981641666, trend_upper=54001.32981641666, extra_regressors_multiplicative=0.013906824900951346, extra_regressors_multiplicative_lower=0.013906824900951346, extra_regressors_multiplicative_upper=0.013906824900951346, multiplicative_terms=0.005328580960313931, multiplicative_terms_lower=0.005328580960313931, multiplicative_terms_upper=0.005328580960313931, solar=0.01247727234621057, solar_lower=0.01247727234621057, solar_upper=0.01247727234621057, weekly=0.06277275999989126, weekly_lower=0.06277275999989126, weekly_upper=0.06277275999989126, wind=0.0014295525547407758, wind_lower=0.0014295525547407758, wind_upper=0.0014295525547407758, yearly=-0.07135100394052868, yearly_lower=-0.07135100394052868, yearly_upper=-0.07135100394052868, additive_terms=0.0, additive_terms_lower=0.0, additive_terms_upper=0.0, yhat=54289.08027430805),\n",
       " Row(ds=datetime.datetime(2015, 1, 2, 0, 0), trend=54006.403662525445, yhat_lower=50084.990738008884, yhat_upper=58303.74302594487, trend_lower=54006.403662525445, trend_upper=54006.403662525445, extra_regressors_multiplicative=0.02340578380732573, extra_regressors_multiplicative_lower=0.02340578380732573, extra_regressors_multiplicative_upper=0.02340578380732573, multiplicative_terms=8.926367705848865e-05, multiplicative_terms_lower=8.926367705848865e-05, multiplicative_terms_upper=8.926367705848865e-05, solar=0.013739797143163016, solar_lower=0.013739797143163016, solar_upper=0.013739797143163016, weekly=0.041012595711659196, weekly_lower=0.041012595711659196, weekly_upper=0.041012595711659196, wind=0.009665986664162714, wind_lower=0.009665986664162714, wind_upper=0.009665986664162714, yearly=-0.06432911584192645, yearly_lower=-0.06432911584192645, yearly_upper=-0.06432911584192645, additive_terms=0.0, additive_terms_lower=0.0, additive_terms_upper=0.0, yhat=54011.22447270106),\n",
       " Row(ds=datetime.datetime(2015, 1, 3, 0, 0), trend=54011.47750863423, yhat_lower=42202.619398389, yhat_upper=50422.13428063238, trend_lower=54011.47750863423, trend_upper=54011.47750863423, extra_regressors_multiplicative=0.019316296063911973, extra_regressors_multiplicative_lower=0.019316296063911973, extra_regressors_multiplicative_upper=0.019316296063911973, multiplicative_terms=-0.14277585245976057, multiplicative_terms_lower=-0.14277585245976057, multiplicative_terms_upper=-0.14277585245976057, solar=0.013810080078011027, solar_lower=0.013810080078011027, solar_upper=0.013810080078011027, weekly=-0.10602611512765704, weekly_lower=-0.10602611512765704, weekly_upper=-0.10602611512765704, wind=0.005506215985900946, wind_lower=0.005506215985900946, wind_upper=0.005506215985900946, yearly=-0.05606603339601549, yearly_lower=-0.05606603339601549, yearly_upper=-0.05606603339601549, additive_terms=0.0, additive_terms_lower=0.0, additive_terms_upper=0.0, yhat=46299.94276472779),\n",
       " Row(ds=datetime.datetime(2015, 1, 4, 0, 0), trend=54016.55135474301, yhat_lower=39137.69869140326, yhat_upper=47150.28329192894, trend_lower=54016.55135474301, trend_upper=54016.55135474301, extra_regressors_multiplicative=0.015287987408209774, extra_regressors_multiplicative_lower=0.015287987408209774, extra_regressors_multiplicative_upper=0.015287987408209774, multiplicative_terms=-0.20435523339337378, multiplicative_terms_lower=-0.20435523339337378, multiplicative_terms_upper=-0.20435523339337378, solar=0.012087472376784293, solar_lower=0.012087472376784293, solar_upper=0.012087472376784293, weekly=-0.1729330897934613, weekly_lower=-0.1729330897934613, weekly_upper=-0.1729330897934613, wind=0.0032005150314254804, wind_lower=0.0032005150314254804, wind_upper=0.0032005150314254804, yearly=-0.04671013100812225, yearly_lower=-0.04671013100812225, yearly_upper=-0.04671013100812225, additive_terms=0.0, additive_terms_lower=0.0, additive_terms_upper=0.0, yhat=42977.98639553934),\n",
       " Row(ds=datetime.datetime(2015, 1, 5, 0, 0), trend=54021.62520085179, yhat_lower=50593.31069570557, yhat_upper=58509.4798279542, trend_lower=54021.62520085179, trend_upper=54021.62520085179, extra_regressors_multiplicative=0.00941929592242274, extra_regressors_multiplicative_lower=0.00941929592242274, extra_regressors_multiplicative_upper=0.00941929592242274, multiplicative_terms=0.009511292286210126, multiplicative_terms_lower=0.009511292286210126, multiplicative_terms_upper=0.009511292286210126, solar=0.01120352931158046, solar_lower=0.01120352931158046, solar_upper=0.01120352931158046, weekly=0.036519210174458534, weekly_lower=0.036519210174458534, weekly_upper=0.036519210174458534, wind=-0.0017842333891577192, wind_lower=-0.0017842333891577192, wind_upper=-0.0017842333891577192, yearly=-0.03642721381067115, yearly_lower=-0.03642721381067115, yearly_upper=-0.03642721381067115, additive_terms=0.0, additive_terms_lower=0.0, additive_terms_upper=0.0, yhat=54535.44066791319)]"
      ]
     },
     "execution_count": 11,
     "metadata": {},
     "output_type": "execute_result"
    }
   ],
   "source": [
    "casted_data.head(5)"
   ]
  },
  {
   "cell_type": "code",
   "execution_count": 12,
   "id": "775c236d-e4de-4b3b-a0bf-5cdde76415b1",
   "metadata": {},
   "outputs": [
    {
     "name": "stderr",
     "output_type": "stream",
     "text": [
      "                                                                                \r"
     ]
    }
   ],
   "source": [
    "casted_data.repartition(1).write.options(header='true',delimiter=',').csv('/home/sinatavakoli284/energy-forecast-pipeline/data/energy_transformed_forecast.csv',mode='overwrite')"
   ]
  }
 ],
 "metadata": {
  "kernelspec": {
   "display_name": "Python 3 (ipykernel)",
   "language": "python",
   "name": "python3"
  },
  "language_info": {
   "codemirror_mode": {
    "name": "ipython",
    "version": 3
   },
   "file_extension": ".py",
   "mimetype": "text/x-python",
   "name": "python",
   "nbconvert_exporter": "python",
   "pygments_lexer": "ipython3",
   "version": "3.12.7"
  }
 },
 "nbformat": 4,
 "nbformat_minor": 5
}
